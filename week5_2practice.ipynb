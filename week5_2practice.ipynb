{
 "cells": [
  {
   "cell_type": "markdown",
   "metadata": {
    "deletable": false,
    "nbgrader": {
     "checksum": "2b665f7a237c7a032c7952d218adb3e9",
     "grade": false,
     "grade_id": "cell-2eb7d743fa08f005",
     "locked": true,
     "schema_version": 3,
     "solution": false,
     "task": false
    }
   },
   "source": [
    "### Week 5-2 Debugging\n",
    "🐛 Welcome to Python Debugging Practice! Each exercise contains bugs. Your job is to find and fix them.\n",
    "Remember the error types we learned:\n",
    "   - Syntax Error: Code doesn't follow Python grammar.\n",
    "   - Semantic Error: Code runs but doesn't do what we want.\n",
    "   - Programming & Runtime Error: Code crashes while running.\n",
    "\n",
    "Instructions for students:\n",
    "1. Run each cell and observe the error\n",
    "2. Identify the type of error (syntax, semantic, runtime)\n",
    "3. Come up with your own test cases\n",
    "4. Debug the code to make it work correctly\n",
    "5. Test again with the test cases"
   ]
  },
  {
   "cell_type": "markdown",
   "metadata": {
    "deletable": false,
    "nbgrader": {
     "checksum": "3d953560ab018d5f7494341cd4a6e604",
     "grade": false,
     "grade_id": "cell-5e9fb9f358538ea3",
     "locked": true,
     "schema_version": 3,
     "solution": false,
     "task": false
    }
   },
   "source": [
    "### Problem 1：Syntax Error\n",
    "Each example shows a common syntax mistake that prevents the code from running at all.\n",
    "Run and fix the codes."
   ]
  },
  {
   "cell_type": "code",
   "execution_count": 2,
   "metadata": {},
   "outputs": [
    {
     "name": "stdout",
     "output_type": "stream",
     "text": [
      "You can vote!\n"
     ]
    }
   ],
   "source": [
    "# Case 1:\n",
    "a = 25\n",
    "\n",
    "if a >= 20:\n",
    "    print(\"You can vote!\")"
   ]
  },
  {
   "cell_type": "code",
   "execution_count": 3,
   "metadata": {},
   "outputs": [],
   "source": [
    "# Case 2:\n",
    "message = \"Hello world!\""
   ]
  },
  {
   "cell_type": "code",
   "execution_count": 6,
   "metadata": {},
   "outputs": [
    {
     "name": "stdout",
     "output_type": "stream",
     "text": [
      "x is big\n"
     ]
    }
   ],
   "source": [
    "# Case 3:\n",
    "x = 6\n",
    "if x > 5:\n",
    "    print('x is big')"
   ]
  },
  {
   "cell_type": "code",
   "execution_count": 8,
   "metadata": {},
   "outputs": [],
   "source": [
    "# Case 4:\n",
    "my_list = [1,2,3]"
   ]
  },
  {
   "cell_type": "markdown",
   "metadata": {
    "nbgrader": {
     "checksum": "3d953560ab018d5f7494341cd4a6e604",
     "grade": false,
     "grade_id": "cell-5e9fb9f358538ea3",
     "locked": true,
     "schema_version": 3,
     "solution": false,
     "task": false
    }
   },
   "source": [
    "### Problem 2：Semantics Error\n"
   ]
  },
  {
   "cell_type": "markdown",
   "metadata": {
    "nbgrader": {
     "checksum": "3d953560ab018d5f7494341cd4a6e604",
     "grade": false,
     "grade_id": "cell-5e9fb9f358538ea3",
     "locked": true,
     "schema_version": 3,
     "solution": false,
     "task": false
    }
   },
   "source": [
    "#### Problem 2.1：Reverse words in a string.\n",
    "Write a test case and debug the buggy function to make it work correctly.\n"
   ]
  },
  {
   "cell_type": "code",
   "execution_count": 26,
   "metadata": {},
   "outputs": [],
   "source": [
    "def reverse_words_buggy(sentence):\n",
    "    \"\"\"Reverse words in a string.\"\"\"\n",
    "    words = sentence.split()\n",
    "    words.reverse()\n",
    "    result = \" \".join(words)\n",
    "    return result"
   ]
  },
  {
   "cell_type": "code",
   "execution_count": 27,
   "metadata": {},
   "outputs": [
    {
     "name": "stdout",
     "output_type": "stream",
     "text": [
      "🔸 Final result: Chandler. love I\n"
     ]
    }
   ],
   "source": [
    "# Test with the buggy function.\n",
    "test_sentence = \"I love Chandler.\"\n",
    "result = reverse_words_buggy(test_sentence)\n",
    "print(f\"🔸 Final result: {result}\")"
   ]
  },
  {
   "cell_type": "markdown",
   "metadata": {},
   "source": [
    "#### Problem 2.2：Indexing and slicing.\n",
    "Write test cases and debug the buggy functions to make them work correctly."
   ]
  },
  {
   "cell_type": "code",
   "execution_count": 30,
   "metadata": {},
   "outputs": [
    {
     "name": "stdout",
     "output_type": "stream",
     "text": [
      "🔸 Final result: Potty\n"
     ]
    }
   ],
   "source": [
    "def get_last_element(items):\n",
    "    \"\"\"Get the last element from a list\"\"\"\n",
    "    last_index = len(items)\n",
    "    return items[last_index - 1]\n",
    "\n",
    "# Test with the buggy function\n",
    "items = [\"Poop\", \"Pee\", \"Potty\"]\n",
    "result = get_last_element(items)\n",
    "print(f\"🔸 Final result: {result}\")"
   ]
  },
  {
   "cell_type": "code",
   "execution_count": 34,
   "metadata": {},
   "outputs": [
    {
     "name": "stdout",
     "output_type": "stream",
     "text": [
      "🔸 Final result: ndler.\n"
     ]
    }
   ],
   "source": [
    "def get_last_n_chars(text, n):\n",
    "    \"\"\"Get the last n characters from a string\"\"\"\n",
    "    return text[len(text)-n:len(text):]\n",
    "    \n",
    "# Test with the buggy function\n",
    "my_str = \"I love Chandler.\"\n",
    "result = get_last_n_chars(my_str, 6)\n",
    "print(f\"🔸 Final result: {result}\")"
   ]
  },
  {
   "cell_type": "markdown",
   "metadata": {},
   "source": [
    "#### 2.3 Class inheritance bugs\n",
    "There are two bugs on our inherited class, find and fix them."
   ]
  },
  {
   "cell_type": "code",
   "execution_count": 40,
   "metadata": {},
   "outputs": [
    {
     "name": "stdout",
     "output_type": "stream",
     "text": [
      "Testing animal hierarchy...\n",
      "Initial animals:\n",
      "  Dog! Buddy the Golden Retriever dog (Energy: 100)\n",
      "\n",
      "Sounds:\n",
      "  Dog says: Woof! Woof!\n",
      "\n",
      "Testing dog tricks:\n",
      "  Buddy performs sit!\n",
      "  Buddy doesn't know jump\n",
      "  Dog after tricks: Dog! Buddy the Golden Retriever dog (Energy: 90)\n"
     ]
    }
   ],
   "source": [
    "# Base class\n",
    "class Animal:\n",
    "    \"\"\"Base animal class\"\"\"\n",
    "    def __init__(self, name, species):\n",
    "        self.name = name\n",
    "        self.species = species\n",
    "        self.energy = 100\n",
    "    \n",
    "    def make_sound(self):\n",
    "        return \"Some generic animal sound\"\n",
    "    \n",
    "    def eat(self, food_energy):\n",
    "        self.energy += food_energy\n",
    "        if self.energy > 100:\n",
    "            self.energy = 100\n",
    "    \n",
    "    def sleep(self):\n",
    "        self.energy = 100\n",
    "    \n",
    "    def __str__(self):\n",
    "        return f\"{self.name} the {self.species} (Energy: {self.energy})\"\n",
    "\n",
    "\n",
    "# Inherited class \n",
    "class Dog(Animal):\n",
    "    \"\"\"Dog class with specific behaviors\"\"\"\n",
    "    def __init__(self, name, breed):\n",
    "        super().__init__(name, species = \"dog\")\n",
    "        self.breed = breed\n",
    "        self.tricks = []\n",
    "    \n",
    "    def make_sound(self):\n",
    "       return \"Woof! Woof!\" #Bug bug!!!!!!\n",
    "    \n",
    "    def learn_trick(self, trick):\n",
    "        if trick not in self.tricks:\n",
    "            self.tricks.append(trick)\n",
    "    \n",
    "    def perform_trick(self, trick):\n",
    "        if trick in self.tricks:\n",
    "            self.energy -= 10\n",
    "            return f\"{self.name} performs {trick}!\"\n",
    "        else:\n",
    "            return f\"{self.name} doesn't know {trick}\"\n",
    "        \n",
    "    def __str__(self):\n",
    "        return f\"Dog! {self.name} the {self.breed} {self.species} (Energy: {self.energy})\"\n",
    "\n",
    "\n",
    "# Test cases\n",
    "print(\"Testing animal hierarchy...\")\n",
    "try:\n",
    "    # Create animals\n",
    "    dog = Dog(\"Buddy\", \"Golden Retriever\")\n",
    "    \n",
    "    print(\"Initial animals:\")\n",
    "    print(f\"  {dog}\")\n",
    "    \n",
    "    print(\"\\nSounds:\")\n",
    "    print(f\"  Dog says: {dog.make_sound()}\")\n",
    "    \n",
    "    print(\"\\nTesting dog tricks:\")\n",
    "    dog.learn_trick(\"sit\")\n",
    "    dog.learn_trick(\"roll over\")\n",
    "    print(f\"  {dog.perform_trick('sit')}\")\n",
    "    print(f\"  {dog.perform_trick('jump')}\") # Dog doesn't know this\n",
    "    print(f\"  Dog after tricks: {dog}\")\n",
    "    \n",
    "except Exception as e:\n",
    "    print(f\"Error: {e}\")\n",
    "    print(\"Check inheritance and method calls!\")"
   ]
  },
  {
   "cell_type": "markdown",
   "metadata": {},
   "source": [
    "### Problem 3：Programming & Runtime Error\n",
    "Debug the buggy function, modify corner cases or function logic to make sure function will not crash at runtime. "
   ]
  },
  {
   "cell_type": "markdown",
   "metadata": {},
   "source": [
    "#### 3.1 Dict"
   ]
  },
  {
   "cell_type": "code",
   "execution_count": 46,
   "metadata": {},
   "outputs": [
    {
     "name": "stdout",
     "output_type": "stream",
     "text": [
      "Alice's grade is 95\n",
      "Diana is not in the class.\n"
     ]
    }
   ],
   "source": [
    "def get_student_grade(student_grades, student_name):\n",
    "    if student_name in student_grades.keys():\n",
    "        grade = student_grades[student_name]\n",
    "        return f\"{student_name}'s grade is {grade}\"\n",
    "    else: \n",
    "        return(f\"{student_name} is not in the class.\")\n",
    "\n",
    "grades = {\"Alice\": 95, \"Bob\": 87}\n",
    "print(get_student_grade(grades, \"Alice\"))\n",
    "print(get_student_grade(grades, \"Diana\"))"
   ]
  },
  {
   "cell_type": "markdown",
   "metadata": {},
   "source": [
    "#### 3.2 Handle Corner case."
   ]
  },
  {
   "cell_type": "code",
   "execution_count": null,
   "metadata": {},
   "outputs": [
    {
     "name": "stdout",
     "output_type": "stream",
     "text": [
      "20.0\n",
      "Average cannot be calculated for an empty list.\n",
      "None\n"
     ]
    }
   ],
   "source": [
    "def calculate_average(numbers):\n",
    "    try:\n",
    "        total = sum(numbers)\n",
    "        count = len(numbers)\n",
    "        if count > 0:\n",
    "            average = total / count\n",
    "            return average\n",
    "        else:\n",
    "            raise ValueError\n",
    "    except ValueError: print(\"Average cannot be calculated for an empty list.\")\n",
    "\n",
    "print(calculate_average([10, 20, 30]))\n",
    "print(calculate_average([]))"
   ]
  },
  {
   "cell_type": "markdown",
   "metadata": {},
   "source": [
    "#### 3.3 Handle Corner case."
   ]
  },
  {
   "cell_type": "code",
   "execution_count": 53,
   "metadata": {},
   "outputs": [],
   "source": [
    "def factorial_buggy(n):\n",
    "    \"\"\"Calculate factorial of n - BUGGY VERSION\"\"\"\n",
    "    if n <= 1: \n",
    "        return 1\n",
    "    return n * factorial_buggy(n - 1)"
   ]
  },
  {
   "cell_type": "code",
   "execution_count": 54,
   "metadata": {},
   "outputs": [
    {
     "data": {
      "text/plain": [
       "6"
      ]
     },
     "execution_count": 54,
     "metadata": {},
     "output_type": "execute_result"
    }
   ],
   "source": [
    "factorial_buggy(3)"
   ]
  }
 ],
 "metadata": {
  "kernelspec": {
   "display_name": "base",
   "language": "python",
   "name": "python3"
  },
  "language_info": {
   "codemirror_mode": {
    "name": "ipython",
    "version": 3
   },
   "file_extension": ".py",
   "mimetype": "text/x-python",
   "name": "python",
   "nbconvert_exporter": "python",
   "pygments_lexer": "ipython3",
   "version": "3.13.5"
  }
 },
 "nbformat": 4,
 "nbformat_minor": 4
}
