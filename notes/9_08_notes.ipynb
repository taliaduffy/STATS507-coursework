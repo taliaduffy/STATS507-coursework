{
 "cells": [
  {
   "cell_type": "markdown",
   "id": "96fca4bd",
   "metadata": {},
   "source": [
    "## Notes 9/08"
   ]
  },
  {
   "cell_type": "markdown",
   "id": "22f2d1c0",
   "metadata": {},
   "source": [
    "lists \n",
    "- a type of sequence\n",
    "- can do mixed data types\n",
    "- Not like R: addition, multiplication NOT vectorized; instead concatenates lists \n",
    "- Mutable (unlike strings)"
   ]
  },
  {
   "cell_type": "markdown",
   "id": "b4a0e955",
   "metadata": {},
   "source": [
    "- in-place modification vs creating a new object\n",
    "- assigning an element to list index actually changes the list\n",
    "    - mutating doesn't return anything (use function for the \"side effects\")\n",
    "- iterable"
   ]
  },
  {
   "cell_type": "markdown",
   "id": "47a6e9ba",
   "metadata": {},
   "source": [
    "List methods: adding elements\n",
    "- append: add elements to the end (mutate)\n",
    "- insert: add element at specific location (mutate)\n",
    "- extend: add multiple elements to a list (mutate)"
   ]
  },
  {
   "cell_type": "markdown",
   "id": "8b790ac3",
   "metadata": {},
   "source": [
    "List methods: removing elements\n",
    "- remove: remove first instant of element from the list (mutate)\n",
    "- pop: remove the last element from the list (mutate), but also then reutrns that element\n"
   ]
  },
  {
   "cell_type": "markdown",
   "id": "cb3f6875",
   "metadata": {},
   "source": [
    "List methods: reordering a list\n",
    "- sort: how it works depends on the data type (mutate)\n",
    "- sorted: return a new list containing the same items but in ascending order (new list)\n",
    "    - can be used on any sequence, not just lists\n",
    "- reverse: reverses order (mutate)\n"
   ]
  },
  {
   "cell_type": "markdown",
   "id": "18b97f33",
   "metadata": {},
   "source": [
    "Other\n",
    "- list(s), if s is a string, to convert a string to a list of characters.\n",
    "- s.split() to split string based on specific character\n",
    "- \"char\".join(list), allows you to join strings in a list using the char in between"
   ]
  },
  {
   "cell_type": "markdown",
   "id": "2e259080",
   "metadata": {},
   "source": [
    "List comprehension:\n",
    "- [x/f(x) for x in my_list if boolean_expr]\n",
    "- [output/evaluated expression for x in sequence if filter]\n",
    "\n"
   ]
  },
  {
   "cell_type": "markdown",
   "id": "16d35133",
   "metadata": {},
   "source": [
    "Tuples\n",
    "- immutable sequences whose values can be of any data type\n",
    "- making a tuple of one element requires a trailing comma (\"a\", )\n",
    "- tuple function casts any sequence to a tuple\n",
    "- indexing / slicing syntax is the same\n",
    "- tuples allow us to swap variables\n",
    "    - x = 1, y = 2\n",
    "    - x, y = y, x (RHS is evaluated to the values before assigning them one at a time to the LHS)\n",
    "- good for returning multiple values from a function\n",
    "- \"bundled\"\n",
    "- function input: *args"
   ]
  },
  {
   "cell_type": "markdown",
   "id": "82ad98c3",
   "metadata": {},
   "source": []
  }
 ],
 "metadata": {
  "kernelspec": {
   "display_name": "base",
   "language": "python",
   "name": "python3"
  },
  "language_info": {
   "codemirror_mode": {
    "name": "ipython",
    "version": 3
   },
   "file_extension": ".py",
   "mimetype": "text/x-python",
   "name": "python",
   "nbconvert_exporter": "python",
   "pygments_lexer": "ipython3",
   "version": "3.13.5"
  }
 },
 "nbformat": 4,
 "nbformat_minor": 5
}
