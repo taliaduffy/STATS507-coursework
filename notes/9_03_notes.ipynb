{
 "cells": [
  {
   "cell_type": "markdown",
   "id": "f3ce3c4a",
   "metadata": {},
   "source": [
    "## Notes from 9/03\n",
    "\n"
   ]
  },
  {
   "cell_type": "markdown",
   "id": "9272e55c",
   "metadata": {},
   "source": [
    "- \"primitive\" data types\n",
    "    - int, float, bool, NoneType\n",
    "\n",
    "- Strings are immutable \n",
    "- Letters, special characters, spaces, digits --> in strings\n",
    "\n",
    "- can do addtion, multiplication on strings\n",
    "- len function\n",
    "\n",
    "- Indexing strings\n",
    "    - square brackets\n",
    "    - negative indices work too (right to left starting at -1)\n",
    "\n",
    "- slicing\n",
    "    - \\[start:stop:step]\n",
    "    - subsequence of characters, starting at start, and including stop-1, taking every step characters\n",
    "    - step not included\n",
    "    - can go forward or backward with negative steps\n",
    "\n",
    "- strings are ordered (can compare with >, <)"
   ]
  },
  {
   "cell_type": "markdown",
   "id": "350c763a",
   "metadata": {},
   "source": [
    "- square brackets in the documentation indicate opitonal arguments"
   ]
  },
  {
   "cell_type": "markdown",
   "id": "5a4384ec",
   "metadata": {},
   "source": [
    "- while loops: can say \"while true,\" but then use a break statement to terminate on a condition\n",
    "- use continue statement to skip to next iteration without running anything in the loop body below it. \n",
    "\n",
    "- recursion: a function that calls itself\n",
    "    - recursion errors\n",
    "\n",
    "- String traversal with for loops\n",
    "    - for c in s:"
   ]
  },
  {
   "cell_type": "markdown",
   "id": "e1fa05c5",
   "metadata": {},
   "source": []
  }
 ],
 "metadata": {
  "language_info": {
   "name": "python"
  }
 },
 "nbformat": 4,
 "nbformat_minor": 5
}
