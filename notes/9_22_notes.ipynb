{
 "cells": [
  {
   "cell_type": "markdown",
   "id": "77272929",
   "metadata": {},
   "source": [
    "## Notes 09/22"
   ]
  },
  {
   "cell_type": "markdown",
   "id": "dae63b22",
   "metadata": {},
   "source": [
    "Programming efficiency\n",
    "- time and space efficiency are usually in a trade-off\n",
    "- to improve, focus on algorithms and not implementations\n"
   ]
  },
  {
   "cell_type": "markdown",
   "id": "533b625c",
   "metadata": {},
   "source": [
    "Evaluate programs by\n",
    "- measuring with a timer\n",
    "- counting the operations\n",
    "\n",
    "- time.perf_counter()\n",
    "\n",
    "- assume mathematical operations, comparisons, assignments, and accessing objects / indexing all take constant time"
   ]
  },
  {
   "cell_type": "markdown",
   "id": "158ea574",
   "metadata": {},
   "source": [
    "Evaluating programs with\n",
    "- abstract notion of the order of growth / asymptotic growth\n",
    "- Big O\n",
    "    - characterizies an upper bound on the asymptotic behavior of a function\n",
    "- Big Omega \n",
    "    - characterizes lower bound\n",
    "- Big theta \n",
    "    - characterizes upper and lower bound\n",
    "\n",
    "- In practice, theta bounds are preferred\n",
    "    - to find it, drop constants and multiplicative factors ; focus on dominant terms"
   ]
  }
 ],
 "metadata": {
  "language_info": {
   "name": "python"
  }
 },
 "nbformat": 4,
 "nbformat_minor": 5
}
