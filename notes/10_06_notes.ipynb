{
 "cells": [
  {
   "cell_type": "markdown",
   "id": "b8f53222",
   "metadata": {},
   "source": [
    "## Notes 10/06"
   ]
  },
  {
   "cell_type": "markdown",
   "id": "b867478d",
   "metadata": {},
   "source": [
    "Scientific Python: SciPy"
   ]
  },
  {
   "cell_type": "markdown",
   "id": "8d0a82e5",
   "metadata": {},
   "source": [
    "- overlap between scipy.linalg and numpy.linalg - scipy is more efficient. \n",
    "    - if fn is defiend in both, use scipy.\n",
    "- spacrse matrix calcualtions - sparse.linalg\n",
    "    - compress sparse matrices\n",
    "- scipy statistics\n",
    "    - distributions, tests, etc"
   ]
  },
  {
   "cell_type": "markdown",
   "id": "c6e52177",
   "metadata": {},
   "source": [
    "Midterm Review"
   ]
  },
  {
   "cell_type": "code",
   "execution_count": null,
   "id": "719a77b9",
   "metadata": {},
   "outputs": [],
   "source": []
  },
  {
   "cell_type": "code",
   "execution_count": null,
   "id": "d225459b",
   "metadata": {},
   "outputs": [],
   "source": []
  }
 ],
 "metadata": {
  "kernelspec": {
   "display_name": "base",
   "language": "python",
   "name": "python3"
  },
  "language_info": {
   "codemirror_mode": {
    "name": "ipython",
    "version": 3
   },
   "file_extension": ".py",
   "mimetype": "text/x-python",
   "name": "python",
   "nbconvert_exporter": "python",
   "pygments_lexer": "ipython3",
   "version": "3.13.5"
  }
 },
 "nbformat": 4,
 "nbformat_minor": 5
}
