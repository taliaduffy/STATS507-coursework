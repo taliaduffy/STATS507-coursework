{
 "cells": [
  {
   "cell_type": "markdown",
   "id": "89f2515b",
   "metadata": {},
   "source": [
    "## Notes from 8/27"
   ]
  },
  {
   "cell_type": "markdown",
   "id": "b689a417",
   "metadata": {},
   "source": [
    "- dynamically typed, interpreted --> on midterm\n",
    "    - dynamic = don't specify the variable type; type determined at runtime\n",
    "        - static is more flexible but more error prone\n",
    "    - interpreted = don't have to interpret or compile into a machine language first. Simple but slower than C++ for example\n",
    "- interpreted vs compiled\n",
    "\n",
    "- syntax vs semantic errors \n",
    "    - object operator object = valid syntax\n",
    "    - however, \"hello world\" + 5 has no meaning --> semantic error\n",
    "    - syntax errors: misspellings, extra colons, wrong indentation, unmatched parentheses\n",
    "    - semantic errors: type mismatches, using a variable before it is defined\n",
    "    - also: runtime + logical errors (crashes, running forever, generating wrong answer)\n"
   ]
  },
  {
   "cell_type": "markdown",
   "id": "93c2ac98",
   "metadata": {},
   "source": [
    "- data types\n",
    "    - represent different concepts and define what kind of operations can be done on an object\n",
    "    - we can cast objects to a different type"
   ]
  },
  {
   "cell_type": "markdown",
   "id": "6be3fcc9",
   "metadata": {},
   "source": [
    "- expressions: combining objects and operators\n",
    "    - can evaluate to a single value"
   ]
  },
  {
   "cell_type": "markdown",
   "id": "70757797",
   "metadata": {},
   "source": [
    "- logical operators\n",
    "    - empty anything evaluates to false\n",
    "    - '' = False"
   ]
  },
  {
   "cell_type": "code",
   "execution_count": null,
   "id": "3010ac0d",
   "metadata": {},
   "outputs": [],
   "source": []
  }
 ],
 "metadata": {
  "kernelspec": {
   "display_name": "base",
   "language": "python",
   "name": "python3"
  },
  "language_info": {
   "codemirror_mode": {
    "name": "ipython",
    "version": 3
   },
   "file_extension": ".py",
   "mimetype": "text/x-python",
   "name": "python",
   "nbconvert_exporter": "python",
   "pygments_lexer": "ipython3",
   "version": "3.13.5"
  }
 },
 "nbformat": 4,
 "nbformat_minor": 5
}
