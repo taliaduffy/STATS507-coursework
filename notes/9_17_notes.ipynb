{
 "cells": [
  {
   "cell_type": "markdown",
   "id": "874dd5b9",
   "metadata": {},
   "source": [
    "## Notes 09/17"
   ]
  },
  {
   "cell_type": "markdown",
   "id": "a55197ea",
   "metadata": {},
   "source": [
    "Inheritance\n",
    "- parent class\n",
    "- child class that inherits data and behaviors of parent class; can also add more data / behaviors or override behaviors\n",
    "- super().\\__init__() --> ensures attributes in parent class are properly initialized"
   ]
  },
  {
   "cell_type": "markdown",
   "id": "d6b9e03a",
   "metadata": {},
   "source": [
    "Iterable\n",
    "- an object apable of returning its memebrs one at a time\n",
    "- lists, sequence types, dict, file object\n",
    "- we can loop over objects that are iterable\n",
    "- how can we tell? Look inside of its attributes for the \\__iter__() dunder method and \\__ne()__\n",
    "\n",
    "Iterators\n",
    "- \"data stream\"\n",
    "- lists are not iterators (but they are iterable)\n",
    "- iter(list_var) to make it an iterator\n",
    "- create an iterator with a new class\n",
    "- \\__iter__(self): return(self) "
   ]
  },
  {
   "cell_type": "markdown",
   "id": "b4598cac",
   "metadata": {},
   "source": []
  }
 ],
 "metadata": {
  "language_info": {
   "name": "python"
  }
 },
 "nbformat": 4,
 "nbformat_minor": 5
}
