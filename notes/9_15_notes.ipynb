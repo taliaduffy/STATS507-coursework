{
 "cells": [
  {
   "cell_type": "markdown",
   "id": "874dd5b9",
   "metadata": {},
   "source": [
    "## Notes 09/15"
   ]
  },
  {
   "cell_type": "markdown",
   "id": "a55197ea",
   "metadata": {},
   "source": []
  },
  {
   "cell_type": "code",
   "execution_count": null,
   "id": "0cab4004",
   "metadata": {},
   "outputs": [],
   "source": []
  }
 ],
 "metadata": {
  "language_info": {
   "name": "python"
  }
 },
 "nbformat": 4,
 "nbformat_minor": 5
}
