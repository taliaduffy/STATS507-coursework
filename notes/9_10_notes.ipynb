{
 "cells": [
  {
   "cell_type": "markdown",
   "id": "e1ed57e8",
   "metadata": {},
   "source": [
    "## Notes 9/10"
   ]
  },
  {
   "cell_type": "markdown",
   "id": "bf9796b1",
   "metadata": {},
   "source": [
    "Formatting strings: \n",
    "- % operator\n",
    "- string.format\n",
    "- f strings (we use this one)\n",
    "\n",
    "- \\ splits the line"
   ]
  },
  {
   "cell_type": "markdown",
   "id": "da5d8a44",
   "metadata": {},
   "source": [
    "Lambda functions.\n",
    "- we usually make new functions with a function name\n",
    "- but what if it's so basic that we just want to use an anonymous function?\n",
    "- one-time use\n",
    "- lambda input:output_expression\n",
    "- can have multiple inputs \n",
    "    - lambda x, y: x+y"
   ]
  },
  {
   "cell_type": "code",
   "execution_count": 1,
   "id": "92e4e399",
   "metadata": {},
   "outputs": [
    {
     "data": {
      "text/plain": [
       "8"
      ]
     },
     "execution_count": 1,
     "metadata": {},
     "output_type": "execute_result"
    }
   ],
   "source": [
    "(lambda x, y: x + y)(3,5)"
   ]
  },
  {
   "cell_type": "markdown",
   "id": "d67d4c0b",
   "metadata": {},
   "source": [
    "Dictionaries\n",
    "- entries map key:value\n",
    "- customize the index, bundle it with a value\n",
    "- NOT a sequence because there is no order; cannot use slicing syntax\n",
    "- however, it IS iterable.\n",
    "- a key can be any immutable object\n",
    "    - str, int, bool, tuple\n",
    "    - NOT list or dictionary\n",
    "- value can be any object\n",
    "- modify or add entries with [] notation\n",
    "- del() to delete items\n",
    "- \"in\" checks for keys"
   ]
  },
  {
   "cell_type": "markdown",
   "id": "ded26830",
   "metadata": {},
   "source": [
    "- get an iterable that acts like a tuple of all keys: Dict.keys()\n",
    "- iterate over values: Dict.values()\n",
    "- iterate over value, pairs together: Dict.items()"
   ]
  },
  {
   "cell_type": "markdown",
   "id": "16d3a313",
   "metadata": {},
   "source": [
    "Applications of dictionaries\n",
    "- use as a counter\n",
    "- memoization"
   ]
  },
  {
   "cell_type": "markdown",
   "id": "68c34858",
   "metadata": {},
   "source": [
    "sorted(my_list, key = str.lower)"
   ]
  },
  {
   "cell_type": "markdown",
   "id": "d836165b",
   "metadata": {},
   "source": [
    "equivalence is NOT the same as being identical (literally the same object)"
   ]
  },
  {
   "cell_type": "markdown",
   "id": "17a05096",
   "metadata": {},
   "source": []
  }
 ],
 "metadata": {
  "kernelspec": {
   "display_name": "base",
   "language": "python",
   "name": "python3"
  },
  "language_info": {
   "codemirror_mode": {
    "name": "ipython",
    "version": 3
   },
   "file_extension": ".py",
   "mimetype": "text/x-python",
   "name": "python",
   "nbconvert_exporter": "python",
   "pygments_lexer": "ipython3",
   "version": "3.13.5"
  }
 },
 "nbformat": 4,
 "nbformat_minor": 5
}
