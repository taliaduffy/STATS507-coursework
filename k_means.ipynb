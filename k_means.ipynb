{
 "cells": [
  {
   "cell_type": "code",
   "execution_count": 1,
   "id": "823af0e1-a3a5-4020-bc1d-4b54debc47c2",
   "metadata": {},
   "outputs": [],
   "source": [
    "import numpy as np"
   ]
  },
  {
   "cell_type": "code",
   "execution_count": 8,
   "id": "8f47ed5d",
   "metadata": {},
   "outputs": [
    {
     "data": {
      "text/plain": [
       "array([[1, 2, 3],\n",
       "       [4, 5, 6],\n",
       "       [7, 8, 9]])"
      ]
     },
     "execution_count": 8,
     "metadata": {},
     "output_type": "execute_result"
    }
   ],
   "source": [
    "X = np.array([[1,2,3], [4,5,6], [7,8,9]])\n",
    "X - np.array([1,1,1])\n",
    "X"
   ]
  },
  {
   "cell_type": "code",
   "execution_count": 5,
   "id": "0fc29f38",
   "metadata": {},
   "outputs": [
    {
     "data": {
      "text/plain": [
       "array([4, 5, 6])"
      ]
     },
     "execution_count": 5,
     "metadata": {},
     "output_type": "execute_result"
    }
   ],
   "source": [
    "X[1,]"
   ]
  },
  {
   "cell_type": "code",
   "execution_count": null,
   "id": "4ef85828-c6d0-4233-ba60-7cff99d42712",
   "metadata": {},
   "outputs": [],
   "source": [
    "# Implement the class\n",
    "class kMeans():\n",
    "    def __init__(self, n_clusters = 3, max_iter = 100):\n",
    "        self.n_clusters = n_clusters\n",
    "        self.max_iter = max_iter\n",
    "        \n",
    "    def fit(self, X):\n",
    "        #Randomly select k (n_clusters) from my X to be centroids\n",
    "        # use np.random.choice\n",
    "        centroids_idx = np.random.choice(range(len(X)), size = self.n_clusters, replace = False)\n",
    "        self.centroids = X[centroids_idx]\n",
    "        for i in range(self.max_iter):\n",
    "            # update centroids\n",
    "            # Calculate distances from X to my centroids (broadcasting)\n",
    "            # X: [num_points, features]\n",
    "            # self.centroids: [[self.n_clusters, features]]\n",
    "            dist = np.linalg.norm\n",
    "            # Label my data to which centroid it belongs using \n",
    "            # Update centroids based on the labels \n",
    "            if np.allclose(new_centroid, self.centroids):\n",
    "                break\n",
    "        \n",
    "        pass\n",
    "        \n",
    "    def predict(self, test_data):\n",
    "        pass\n",
    "    # YOUR CODE HERE"
   ]
  },
  {
   "cell_type": "code",
   "execution_count": null,
   "id": "1c4b9d12-c57c-4911-a78c-5ebf98f27f1b",
   "metadata": {},
   "outputs": [],
   "source": [
    "# test the class\n",
    "def test_kmeans():\n",
    "    # Test 1: Basic clustering with clearly separated points\n",
    "    X = np.array([\n",
    "        [0, 0], [1, 0], [0, 1],      # Cluster 1\n",
    "        [5, 5], [6, 5], [5, 6],      # Cluster 2\n",
    "        [10, 10], [11, 10], [10, 11]  # Cluster 3\n",
    "    ])\n",
    "    \n",
    "    np.random.seed(42)\n",
    "    kmeans = KMeans(n_clusters=3)\n",
    "    kmeans.fit(X)\n",
    "    \n",
    "    # Test number of centroids\n",
    "    assert len(kmeans.centroids) == 3, \"Should have 3 centroids\"\n",
    "    \n",
    "    # Test centroid shapes\n",
    "    assert kmeans.centroids.shape == (3, 2), \"Centroids should be 2D\"\n",
    "\n",
    "    X_test = np.random.normal(4, 1, (10, 2))\n",
    "    \n",
    "    # Predict clusters for test data\n",
    "    predictions = kmeans.predict(X_test)\n",
    "    print(\"Predictions for test data:\", predictions)\n",
    "    \n",
    "    # Test 2: Random data\n",
    "    np.random.seed(42)\n",
    "    X_random = np.random.randn(100, 2) * 3\n",
    "    X_random[:33] += np.array([10, 10])\n",
    "    X_random[33:66] += np.array([-10, -10])\n",
    "    \n",
    "    kmeans = KMeans(n_clusters=3)\n",
    "    kmeans.fit(X_random)\n",
    "    \n",
    "    distances = np.linalg.norm(X_random[:, np.newaxis] - kmeans.centroids, axis=2)\n",
    "    labels = np.argmin(distances, axis=1)\n",
    "    \n",
    "    # Test cluster sizes are reasonable\n",
    "    unique, counts = np.unique(labels, return_counts=True)\n",
    "    assert len(unique) == 3, \"Should have 3 unique clusters\"\n",
    "    assert all(counts > 5), \"Each cluster should have multiple points\"\n",
    "    \n",
    "    print(\"All tests passed!\")\n",
    "    \n",
    "\n",
    "if __name__ == \"__main__\":\n",
    "    test_kmeans()"
   ]
  }
 ],
 "metadata": {
  "kernelspec": {
   "display_name": "base",
   "language": "python",
   "name": "python3"
  },
  "language_info": {
   "codemirror_mode": {
    "name": "ipython",
    "version": 3
   },
   "file_extension": ".py",
   "mimetype": "text/x-python",
   "name": "python",
   "nbconvert_exporter": "python",
   "pygments_lexer": "ipython3",
   "version": "3.13.5"
  }
 },
 "nbformat": 4,
 "nbformat_minor": 5
}
