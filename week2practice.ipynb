{
 "cells": [
  {
   "cell_type": "markdown",
   "id": "a5dbb53f-8913-4905-900a-dac458aa6e46",
   "metadata": {},
   "source": [
    "# STATS 507, Week 2 practice"
   ]
  },
  {
   "cell_type": "markdown",
   "id": "cb5bdf8a-86f8-4b1b-95dd-2a0d0d673945",
   "metadata": {},
   "source": [
    "### Problem 1\n",
    "Write a Python function that takes a string as input and returns the reverse of that string using string slicing."
   ]
  },
  {
   "cell_type": "code",
   "execution_count": 1,
   "id": "f5da5422-ebad-457b-88b9-7d0d1f96622c",
   "metadata": {},
   "outputs": [
    {
     "data": {
      "text/plain": [
       "'nagihciM fo vinU'"
      ]
     },
     "execution_count": 1,
     "metadata": {},
     "output_type": "execute_result"
    }
   ],
   "source": [
    "def reverse_str_using_slicing(s):\n",
    "    string = \"\"\n",
    "    for i in range(1, len(s)+1):\n",
    "        string = string + s[len(s) - i]\n",
    "    return string\n",
    "# expected 'gnirts'\n",
    "reverse_str_using_slicing(\"string\")\n",
    "reverse_str_using_slicing(\"panda\")\n",
    "reverse_str_using_slicing(\"Univ of Michigan\")"
   ]
  },
  {
   "cell_type": "code",
   "execution_count": 2,
   "id": "93024cdf",
   "metadata": {},
   "outputs": [
    {
     "data": {
      "text/plain": [
       "'nagihciM fo vinU'"
      ]
     },
     "execution_count": 2,
     "metadata": {},
     "output_type": "execute_result"
    }
   ],
   "source": [
    "def reverse_str_using_slicing(s):\n",
    "    s_alt = s[::-1]\n",
    "    return(s_alt)\n",
    "\n",
    "reverse_str_using_slicing(\"string\")\n",
    "reverse_str_using_slicing(\"panda\")\n",
    "reverse_str_using_slicing(\"Univ of Michigan\")"
   ]
  },
  {
   "cell_type": "markdown",
   "id": "c0626107-386e-4a7f-a60d-01f0932298fd",
   "metadata": {},
   "source": [
    "### Problem 2"
   ]
  },
  {
   "cell_type": "code",
   "execution_count": 3,
   "id": "5759eafa-afa5-4cc3-b616-1c4de3f386ec",
   "metadata": {},
   "outputs": [
    {
     "name": "stdout",
     "output_type": "stream",
     "text": [
      "spring\n"
     ]
    }
   ],
   "source": [
    "s = \"string\"\n",
    "# Modify the 2nd character of s such that s = \"spring\"\n",
    "\n",
    "s = s[0] + \"p\" + s[2:]\n",
    "\n",
    "print(s)"
   ]
  },
  {
   "cell_type": "markdown",
   "id": "04ac6273-0e85-4a81-b5e0-301fdf040418",
   "metadata": {},
   "source": [
    "### Two more things with string"
   ]
  },
  {
   "cell_type": "code",
   "execution_count": 4,
   "id": "01bd2d32-d177-44f8-99e7-48429cd3e126",
   "metadata": {},
   "outputs": [
    {
     "name": "stdout",
     "output_type": "stream",
     "text": [
      "['__add__', '__class__', '__contains__', '__delattr__', '__dir__', '__doc__', '__eq__', '__format__', '__ge__', '__getattribute__', '__getitem__', '__getnewargs__', '__getstate__', '__gt__', '__hash__', '__init__', '__init_subclass__', '__iter__', '__le__', '__len__', '__lt__', '__mod__', '__mul__', '__ne__', '__new__', '__reduce__', '__reduce_ex__', '__repr__', '__rmod__', '__rmul__', '__setattr__', '__sizeof__', '__str__', '__subclasshook__', 'capitalize', 'casefold', 'center', 'count', 'encode', 'endswith', 'expandtabs', 'find', 'format', 'format_map', 'index', 'isalnum', 'isalpha', 'isascii', 'isdecimal', 'isdigit', 'isidentifier', 'islower', 'isnumeric', 'isprintable', 'isspace', 'istitle', 'isupper', 'join', 'ljust', 'lower', 'lstrip', 'maketrans', 'partition', 'removeprefix', 'removesuffix', 'replace', 'rfind', 'rindex', 'rjust', 'rpartition', 'rsplit', 'rstrip', 'split', 'splitlines', 'startswith', 'strip', 'swapcase', 'title', 'translate', 'upper', 'zfill']\n"
     ]
    }
   ],
   "source": [
    "s = \"Any string\"\n",
    "# Can we see what operation methods are avaible for varibale s?\n",
    "print(dir(s))"
   ]
  },
  {
   "cell_type": "code",
   "execution_count": 5,
   "id": "dda4dd33-4c05-445c-9afb-6439ec61ebc1",
   "metadata": {},
   "outputs": [
    {
     "name": "stdout",
     "output_type": "stream",
     "text": [
      "Help on method_descriptor:\n",
      "\n",
      "find(self, sub[, start[, end]], /) unbound builtins.str method\n",
      "    Return the lowest index in S where substring sub is found, such that sub is contained within S[start:end].\n",
      "\n",
      "    Optional arguments start and end are interpreted as in slice notation.\n",
      "    Return -1 on failure.\n",
      "\n"
     ]
    }
   ],
   "source": [
    "# what if we want to see what we can do with string\n",
    "help(str.find)"
   ]
  },
  {
   "cell_type": "code",
   "execution_count": 6,
   "id": "0e66981a-526a-4e64-b819-5f674554113b",
   "metadata": {},
   "outputs": [
    {
     "name": "stdout",
     "output_type": "stream",
     "text": [
      "12\n",
      "-1\n",
      "10\n",
      "15\n"
     ]
    }
   ],
   "source": [
    "# Basic usage of find()\n",
    "text = \"Python is a great programming language\"\n",
    "# Find the first occurrence of a substring\n",
    "print(text.find(\"great\"))  # Output: 12\n",
    "\n",
    "# Find a substring that doesn't exist (returns -1)\n",
    "print(text.find(\"Java\"))  # Output: -1\n",
    "\n",
    "# Find with a starting index\n",
    "print(text.find(\"a\", 10))  # Output: 14\n",
    "\n",
    "# Find with both start and end indices\n",
    "print(text.find(\"a\", 15, 20))  # Output: 16"
   ]
  },
  {
   "cell_type": "markdown",
   "id": "b1f3f286-b0a8-4585-8ce3-4a1de44d55fe",
   "metadata": {},
   "source": [
    "### Problem 3\n",
    "\n",
    "Write a function named `sum_naturals_while` that takes one argument `n` and use a `while` loop to compute the sum of the first $n$ natural numbers (starting with $1$)."
   ]
  },
  {
   "cell_type": "code",
   "execution_count": 7,
   "id": "72d0e461-8975-4fa8-856a-81831b84d9b1",
   "metadata": {},
   "outputs": [],
   "source": [
    "def sum_naturals_while(n):\n",
    "    i = 1\n",
    "    sum = 0\n",
    "    while i <= n:\n",
    "        sum = sum + i\n",
    "        i = i + 1\n",
    "    return sum\n"
   ]
  },
  {
   "cell_type": "code",
   "execution_count": 8,
   "id": "2cb50efd-508d-49c4-94fe-2662b237d9c8",
   "metadata": {},
   "outputs": [],
   "source": [
    "assert sum_naturals_while(1) == 1\n",
    "assert sum_naturals_while(2) == 3\n",
    "assert sum_naturals_while(3) == 6"
   ]
  },
  {
   "cell_type": "markdown",
   "id": "0021a016-a80f-4dce-b30c-207e82262aa2",
   "metadata": {},
   "source": [
    "### Problem 4\n",
    "\n",
    "Write a function named `sum_naturals_recur` that takes one argument `n` and uses recursion to compute the sum of the first $n$ natural numbers (starting with $1$)."
   ]
  },
  {
   "cell_type": "code",
   "execution_count": 9,
   "id": "caede500-8b97-4cad-b203-bf7c7b7b18c3",
   "metadata": {},
   "outputs": [],
   "source": [
    "def sum_naturals_recur(n):\n",
    "    if n == 1:\n",
    "        return 1\n",
    "    else: \n",
    "        return n + sum_naturals_recur(n-1)"
   ]
  },
  {
   "cell_type": "code",
   "execution_count": 10,
   "id": "d15f633c-c9c9-4958-b0ff-10c19057bdb0",
   "metadata": {},
   "outputs": [],
   "source": [
    "assert sum_naturals_recur(1) == 1\n",
    "assert sum_naturals_recur(2) == 3\n",
    "assert sum_naturals_recur(3) == 6"
   ]
  },
  {
   "cell_type": "markdown",
   "id": "004a135e",
   "metadata": {},
   "source": [
    "----"
   ]
  },
  {
   "cell_type": "code",
   "execution_count": 13,
   "id": "454bc183",
   "metadata": {},
   "outputs": [
    {
     "data": {
      "text/plain": [
       "[1, 3, 2, 5, 7]"
      ]
     },
     "execution_count": 13,
     "metadata": {},
     "output_type": "execute_result"
    }
   ],
   "source": [
    "t = [1, 3, 2, 5]\n",
    "t.append(7)\n",
    "t"
   ]
  },
  {
   "cell_type": "code",
   "execution_count": 19,
   "id": "d97d1c57",
   "metadata": {},
   "outputs": [
    {
     "data": {
      "text/plain": [
       "[1, 2, 3, 5, 7]"
      ]
     },
     "execution_count": 19,
     "metadata": {},
     "output_type": "execute_result"
    }
   ],
   "source": [
    "st = [1, 2, 3, 5]\n",
    "st + [7]\n",
    "st = st + [7]\n",
    "st"
   ]
  },
  {
   "cell_type": "markdown",
   "id": "aa8ba183",
   "metadata": {},
   "source": []
  }
 ],
 "metadata": {
  "kernelspec": {
   "display_name": "base",
   "language": "python",
   "name": "python3"
  },
  "language_info": {
   "codemirror_mode": {
    "name": "ipython",
    "version": 3
   },
   "file_extension": ".py",
   "mimetype": "text/x-python",
   "name": "python",
   "nbconvert_exporter": "python",
   "pygments_lexer": "ipython3",
   "version": "3.13.5"
  }
 },
 "nbformat": 4,
 "nbformat_minor": 5
}
